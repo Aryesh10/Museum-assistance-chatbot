{
 "cells": [
  {
   "cell_type": "code",
   "execution_count": 62,
   "metadata": {},
   "outputs": [
    {
     "name": "stdout",
     "output_type": "stream",
     "text": [
      "ok\n"
     ]
    }
   ],
   "source": [
    "print(\"ok\")\n"
   ]
  },
  {
   "cell_type": "code",
   "execution_count": 63,
   "metadata": {},
   "outputs": [
    {
     "data": {
      "text/plain": [
       "'c:\\\\Users\\\\aryes\\\\OneDrive\\\\Desktop\\\\Museum chatbot new\\\\Museum-assistance-chatbot\\\\research'"
      ]
     },
     "execution_count": 63,
     "metadata": {},
     "output_type": "execute_result"
    }
   ],
   "source": [
    "%pwd"
   ]
  },
  {
   "cell_type": "code",
   "execution_count": 64,
   "metadata": {},
   "outputs": [],
   "source": [
    "from langchain.document_loaders import PyPDFLoader, DirectoryLoader\n",
    "from langchain.text_splitter import RecursiveCharacterTextSplitter"
   ]
  },
  {
   "cell_type": "code",
   "execution_count": 65,
   "metadata": {},
   "outputs": [],
   "source": [
    "def load_pdf_file(data):\n",
    "    loader= DirectoryLoader(data, glob= \"*.pdf\", loader_cls=PyPDFLoader)\n",
    "    documents= loader.load()\n",
    "\n",
    "    return documents"
   ]
  },
  {
   "cell_type": "code",
   "execution_count": 66,
   "metadata": {},
   "outputs": [],
   "source": [
    "extracted_data=load_pdf_file(data=r'C:\\Users\\aryes\\OneDrive\\Desktop\\Museum chatbot new\\Museum-assistance-chatbot\\Data')"
   ]
  },
  {
   "cell_type": "code",
   "execution_count": 67,
   "metadata": {},
   "outputs": [
    {
     "data": {
      "text/plain": [
       "[Document(metadata={'producer': '3-Heights(TM) PDF Analysis & Repair Shell 4.12.26.3 (http://www.pdf-tools.com)', 'creator': 'Microsoft® Word 2021', 'creationdate': '2025-03-25T20:30:26+05:30', 'author': 'Aryesh .', 'moddate': '2025-03-25T16:17:54+00:00', 'source': 'C:\\\\Users\\\\aryes\\\\OneDrive\\\\Desktop\\\\Museum chatbot new\\\\Museum-assistance-chatbot\\\\Data\\\\INDIAN MUSEUM EVENTS DETAILS_repaired.pdf', 'total_pages': 3, 'page': 0, 'page_label': '1'}, page_content='INDIAN MUSEUM, KOLKATA – EVENTS & VISITOR INFORMATION      \\nWelcome to the Indian Museum, Kolkata, where history comes alive! Explore our \\nupcoming events, ticket pricing, seating arrangements, and timings to plan your visit. \\n \\n   UPCOMING EVENTS \\n1. \"Echoes of the Past\" – Interactive History Exhibition \\n🗓 Date: April 10 – April 30, 2025 \\n        Timings: 11:00 AM – 4:00 PM (Daily) \\n    Location: Main Exhibition Hall (Ground Floor) \\n🎟 Tickets: Included with museum entry \\n    About: Explore ancient Indian civilizations through virtual reality, 3D reconstructions, \\nand interactive touchscreens! \\n2. \"The Secrets of the Mummy\" – Special Lecture & Guided Tour \\n🗓 Date: May 15, 2025 \\n        Timings: 2:00 PM – 4:00 PM \\n    Location: Anthropology Section, First Floor \\n🎟 Tickets: ₹100 per person (Pre-booking required) \\n    About: Join Dr. Ayan Sengupta, an Egyptologist, as he unravels the mystery behind the \\nmuseum\\'s 4,000-year-old Egyptian Mummy! Includes an exclusive guided tour. \\n3. \"Art Through the Ages\" – Painting & Calligraphy Workshop \\n🗓 Date: June 5 – June 7, 2025 \\n        Timings: 10:30 AM – 1:30 PM \\n    Location: Art Gallery, First Floor \\n🎟 Tickets: ₹150 (Includes materials & refreshments) \\n    About: Learn traditional Mughal Miniature Painting & Ancient Indian Calligraphy \\nfrom master artists. \\n4. \"Prehistoric Giants\" – Fossil & Dinosaur Exhibit \\n🗓 Date: July 20 – August 20, 2025 \\n        Timings: 10:00 AM – 5:00 PM (Daily) \\n    Location: Geology Section, First Floor \\n🎟 Tickets: Included with museum entry \\n    About: Walk among life-sized dinosaur fossils, prehistoric creatures, and animated \\nAR displays. \\n5. \"Night at the Museum\" – Special Night Tour & Light Show \\n🗓 Date: September 15, 2025 \\n        Timings: 7:00 PM – 10:00 PM'),\n",
       " Document(metadata={'producer': '3-Heights(TM) PDF Analysis & Repair Shell 4.12.26.3 (http://www.pdf-tools.com)', 'creator': 'Microsoft® Word 2021', 'creationdate': '2025-03-25T20:30:26+05:30', 'author': 'Aryesh .', 'moddate': '2025-03-25T16:17:54+00:00', 'source': 'C:\\\\Users\\\\aryes\\\\OneDrive\\\\Desktop\\\\Museum chatbot new\\\\Museum-assistance-chatbot\\\\Data\\\\INDIAN MUSEUM EVENTS DETAILS_repaired.pdf', 'total_pages': 3, 'page': 1, 'page_label': '2'}, page_content='Location: Entire Museum Complex \\n🎟 Tickets: ₹500 (Limited Seats – Pre-booking required) \\n    About: Experience the museum like never before! A candle-lit tour, live performances, \\nand a stunning light & sound show will bring history to life. \\n \\n      TICKET PRICES \\n🎟 GENERAL ENTRY (Includes access to permanent galleries) \\n• Indian Adults: ₹50 \\n• Foreign Visitors: ₹500 \\n• Students (With Valid ID): ₹20 \\n• Children (Below 5 Years): Free \\n🎟 SPECIAL EXHIBITS & EVENTS \\n• Guided Tours: ₹100 – ₹300 (Depending on tour type) \\n• Night at the Museum: ₹500 \\n• Art & Craft Workshops: ₹150 – ₹300 \\n🎟 ANNUAL MEMBERSHIP \\n• Silver Pass (Unlimited Visits for 1 Year) – ₹1,000 \\n• Gold Pass (Includes Workshops & Events) – ₹2,500 \\n    Note: Tickets can be purchased online or at the museum entrance counter. \\n \\n🎟 SEATING & EVENT ARRANGEMENTS \\n• Lecture Halls: 150 seats (First-Come, First-Serve Basis) \\n• Workshops: 30–50 participants per session \\n• Outdoor Events: Open seating (Limited capacity, arrive early) \\n• Special Exhibits: No fixed seating; guided walk-throughs available \\n \\n        MUSEUM TIMINGS \\n      Regular Hours: \\n• Tuesday – Sunday: 10:00 AM – 5:00 PM \\n• Monday: Closed'),\n",
       " Document(metadata={'producer': '3-Heights(TM) PDF Analysis & Repair Shell 4.12.26.3 (http://www.pdf-tools.com)', 'creator': 'Microsoft® Word 2021', 'creationdate': '2025-03-25T20:30:26+05:30', 'author': 'Aryesh .', 'moddate': '2025-03-25T16:17:54+00:00', 'source': 'C:\\\\Users\\\\aryes\\\\OneDrive\\\\Desktop\\\\Museum chatbot new\\\\Museum-assistance-chatbot\\\\Data\\\\INDIAN MUSEUM EVENTS DETAILS_repaired.pdf', 'total_pages': 3, 'page': 2, 'page_label': '3'}, page_content='Special Hours: \\n• Night at the Museum: 7:00 PM – 10:00 PM (Only on Event Days) \\n \\n    LOCATION & CONTACT \\n    Address: 27, Jawaharlal Nehru Road, Kolkata – 700016 \\n   Helpline: +91 33 2286 1702 \\n  Website: www.indianmuseumkolkata.gov.in \\n     Follow us on Social Media for updates! \\n         Instagram: @IndianMuseumKolkata \\n     Facebook: Indian Museum, Kolkata \\n     Twitter: @IndMuseum \\n \\n     PLAN YOUR VISIT TODAY & DISCOVER INDIA’S HERITAGE LIKE NEVER \\nBEFORE!'),\n",
       " Document(metadata={'producer': '3-Heights(TM) PDF Analysis & Repair Shell 4.12.26.3 (http://www.pdf-tools.com)', 'creator': 'Microsoft® Word 2021', 'creationdate': '2025-03-25T20:26:55+05:30', 'author': 'Aryesh .', 'moddate': '2025-03-25T16:19:58+00:00', 'source': 'C:\\\\Users\\\\aryes\\\\OneDrive\\\\Desktop\\\\Museum chatbot new\\\\Museum-assistance-chatbot\\\\Data\\\\The Indian Museum_repaired.pdf', 'total_pages': 5, 'page': 0, 'page_label': '1'}, page_content=\"The Indian Museum, Kolkata – A Comprehensive Guide \\nThe Indian Museum in Kolkata is a landmark institution in India’s cultural and \\nhistorical landscape. Established in 1814, it is the oldest museum in India and the \\nlargest in Asia, holding an extensive collection of artifacts spanning archaeology, \\nanthropology, geology, zoology, botany, and art. The museum has played a crucial role \\nin the preservation of India's cultural and natural heritage and continues to be a major \\ncenter for education and research. \\nThis guide explores the history, architecture, collections, significance, and visitor \\ninformation of the museum in great detail. \\n \\n1. History of the Indian Museum \\nOrigins and Foundation (18th–19th Century) \\nThe idea of establishing a museum in India was first proposed by Sir William Jones, the \\nfounder of the Asiatic Society of Bengal in 1784. However, the actual initiative to create \\nthe museum came from Dr. Nathaniel Wallich, a Danish botanist who suggested forming \\na repository for historical, cultural, and scientific specimens. \\n• In 1814, the Asiatic Society of Bengal established the museum within its own \\npremises, initially focusing on botanical and zoological specimens. \\n• The museum started as a collection of rare objects, including ancient coins, \\nfossils, and ethnographic items. \\n• The early collections were donations from British officials, scholars, and Indian \\ncollectors. \\nExpansion and Development (19th Century) \\n• By the mid-19th century, the museum had accumulated a vast collection and \\nrequired a larger space. \\n• The British government sanctioned funds for the construction of a new building, \\nwhich was completed in 1875 on Jawaharlal Nehru Road (Chowringhee Road). \\n• The museum was named Imperial Museum during British rule. \\nPost-Independence Developments (1947–Present) \\n• After India’s independence in 1947, the museum was placed under the Ministry \\nof Culture, Government of India. \\n• The institution underwent modernization efforts, with new galleries, digitization \\nprojects, and conservation techniques. \\n• Today, the Indian Museum is a globally recognized institution that serves \\nresearchers, students, and visitors from all over the world.\"),\n",
       " Document(metadata={'producer': '3-Heights(TM) PDF Analysis & Repair Shell 4.12.26.3 (http://www.pdf-tools.com)', 'creator': 'Microsoft® Word 2021', 'creationdate': '2025-03-25T20:26:55+05:30', 'author': 'Aryesh .', 'moddate': '2025-03-25T16:19:58+00:00', 'source': 'C:\\\\Users\\\\aryes\\\\OneDrive\\\\Desktop\\\\Museum chatbot new\\\\Museum-assistance-chatbot\\\\Data\\\\The Indian Museum_repaired.pdf', 'total_pages': 5, 'page': 1, 'page_label': '2'}, page_content='2. Architecture and Structure of the Indian Museum \\nThe Indian Museum’s building is one of the finest examples of British colonial \\narchitecture in India. \\nArchitectural Style \\n• The museum follows a neo-classical architectural design with Doric columns, \\nhigh ceilings, arched doorways, and grand staircases. \\n• The two-story structure has large galleries that provide ample space for \\nshowcasing artifacts. \\nLayout of the Museum \\nThe museum consists of three floors and multiple wings, each dedicated to different \\nsubjects: \\n• Ground Floor – Houses the Archaeology, Anthropology, and Art sections. \\n• First Floor – Contains Geology, Zoology, and Economic Botany sections. \\n• Courtyard – Used for exhibitions, cultural programs, and special displays. \\nKey Architectural Features \\n• The central courtyard allows natural light to illuminate the museum, reducing \\nthe need for artificial lighting. \\n• Massive columns and wide corridors create a sense of grandeur and \\nspaciousness. \\n• The rooftop and façade feature elements of European classical design, with \\nintricate moldings and decorative features. \\n \\n3. Collections and Exhibits \\nThe Indian Museum’s collection is one of the most extensive in the world, covering a \\nwide range of disciplines. \\nA. Archaeology Section \\nThis section showcases relics from ancient Indian civilizations, including sculptures, \\ninscriptions, and coins. \\nNotable Exhibits \\n1. Harappan Civilization Artifacts (2500 BCE–1900 BCE) – Terracotta figurines, \\npottery, tools, and seals from the Indus Valley Civilization. \\n2. Mauryan and Gupta Period Sculptures (322 BCE–550 CE) – Including \\nsculptures of Buddha and Hindu deities from the Gandhara and Mathura \\nschools.'),\n",
       " Document(metadata={'producer': '3-Heights(TM) PDF Analysis & Repair Shell 4.12.26.3 (http://www.pdf-tools.com)', 'creator': 'Microsoft® Word 2021', 'creationdate': '2025-03-25T20:26:55+05:30', 'author': 'Aryesh .', 'moddate': '2025-03-25T16:19:58+00:00', 'source': 'C:\\\\Users\\\\aryes\\\\OneDrive\\\\Desktop\\\\Museum chatbot new\\\\Museum-assistance-chatbot\\\\Data\\\\The Indian Museum_repaired.pdf', 'total_pages': 5, 'page': 2, 'page_label': '3'}, page_content='3. Bharhut Stupa Railings – Intricately carved railings from a 2nd-century BCE \\nBuddhist stupa in Madhya Pradesh. \\n4. Ashoka’s Rock and Pillar Edicts – Original inscriptions from Emperor Ashoka’s \\nreign, dating to 273 BCE–232 BCE. \\nB. Anthropology Section \\nThis section explores the diverse ethnic and tribal cultures of India. \\nNotable Exhibits \\n1. Tribal Masks, Jewelry, and Tools – From indigenous communities such as the \\nSanthal, Gond, and Naga tribes. \\n2. Egyptian Mummy (c. 2000 BCE) – One of the few authentic mummies in India, \\ncomplete with burial artifacts. \\n3. Evolution of Humans Display – Fossilized skulls and reconstructions of early \\nhuman species. \\nC. Art Section \\nThe museum holds a remarkable collection of paintings, manuscripts, and textiles. \\nNotable Exhibits \\n1. Mughal Miniature Paintings – Exquisite works from the 16th–18th centuries. \\n2. Bengal School of Art – Featuring paintings from Rabindranath Tagore and \\nAbanindranath Tagore. \\n3. Tanjore and Mysore Paintings – Traditional South Indian paintings known for \\ngold leaf work and intricate details. \\nD. Zoology Section \\nOne of the most scientifically significant sections, showcasing preserved animal \\nspecimens. \\nNotable Exhibits \\n1. Fossils of Extinct Animals – Includes the 40-foot-long skeleton of a prehistoric \\nmarine reptile. \\n2. Butterfly and Insect Collection – Thousands of species meticulously preserved. \\n3. Rare Animal Specimens – Preserved Bengal tiger, Asiatic lion, and crocodiles. \\nE. Geology Section \\nThis section contains minerals, gemstones, and fossils from India and around the world. \\nNotable Exhibits \\n1. Fossilized Tree Trunks (200 Million Years Old) – Prehistoric tree remains turned \\ninto stone.'),\n",
       " Document(metadata={'producer': '3-Heights(TM) PDF Analysis & Repair Shell 4.12.26.3 (http://www.pdf-tools.com)', 'creator': 'Microsoft® Word 2021', 'creationdate': '2025-03-25T20:26:55+05:30', 'author': 'Aryesh .', 'moddate': '2025-03-25T16:19:58+00:00', 'source': 'C:\\\\Users\\\\aryes\\\\OneDrive\\\\Desktop\\\\Museum chatbot new\\\\Museum-assistance-chatbot\\\\Data\\\\The Indian Museum_repaired.pdf', 'total_pages': 5, 'page': 3, 'page_label': '4'}, page_content='2. Meteorites – Rocks from space that have landed in India. \\n3. Rare Indian Gemstones – Displaying rubies, sapphires, and emeralds from \\nIndian mines. \\n \\n4. Significance of the Indian Museum \\nEducational Importance \\n• Provides an invaluable resource for students, researchers, and scholars. \\n• Offers guided tours and interactive learning programs for visitors. \\nCultural and Historical Importance \\n• Houses some of India’s most precious heritage artifacts, preserving them for \\nfuture generations. \\n• Serves as a repository of knowledge about India’s ancient civilizations, art, and \\ntraditions. \\nTourist Attraction \\n• One of the top tourist destinations in Kolkata, attracting thousands of visitors \\nannually. \\n• Features special exhibitions and events throughout the year. \\n \\n5. Visitor Information \\nLocation \\n    27, Jawaharlal Nehru Road, Kolkata, West Bengal, India \\nOpening Hours \\n• Tuesday to Sunday: 10:00 AM – 5:00 PM \\n• Closed on Mondays and public holidays \\nEntry Fees \\n• Indian Citizens: ₹50 \\n• Foreign Visitors: ₹500 \\n• Students (With ID): Free or discounted rates \\nFacilities \\n   Library and Archives \\n   Museum Café and Souvenir Shop \\n   Guided Tours'),\n",
       " Document(metadata={'producer': '3-Heights(TM) PDF Analysis & Repair Shell 4.12.26.3 (http://www.pdf-tools.com)', 'creator': 'Microsoft® Word 2021', 'creationdate': '2025-03-25T20:26:55+05:30', 'author': 'Aryesh .', 'moddate': '2025-03-25T16:19:58+00:00', 'source': 'C:\\\\Users\\\\aryes\\\\OneDrive\\\\Desktop\\\\Museum chatbot new\\\\Museum-assistance-chatbot\\\\Data\\\\The Indian Museum_repaired.pdf', 'total_pages': 5, 'page': 4, 'page_label': '5'}, page_content='Conclusion \\nThe Indian Museum, Kolkata, is a cultural and historical treasure trove, preserving \\nIndia’s glorious past while continuously evolving to meet modern research and \\neducational needs. Whether you are a history enthusiast, an art lover, or a science \\nstudent, the museum offers an unparalleled experience that brings India’s rich heritage \\nto life.')]"
      ]
     },
     "execution_count": 67,
     "metadata": {},
     "output_type": "execute_result"
    }
   ],
   "source": [
    "extracted_data"
   ]
  },
  {
   "cell_type": "code",
   "execution_count": 68,
   "metadata": {},
   "outputs": [],
   "source": [
    "def text_split(extracted_data):\n",
    "    text_splitter=RecursiveCharacterTextSplitter(chunk_size=500, chunk_overlap=20)\n",
    "    text_chunks=text_splitter.split_documents(extracted_data)\n",
    "    return text_chunks"
   ]
  },
  {
   "cell_type": "code",
   "execution_count": 69,
   "metadata": {},
   "outputs": [
    {
     "name": "stdout",
     "output_type": "stream",
     "text": [
      "Length of Text Chunks 25\n"
     ]
    }
   ],
   "source": [
    "text_chunks=text_split(extracted_data)\n",
    "print('Length of Text Chunks', len(text_chunks))"
   ]
  },
  {
   "cell_type": "code",
   "execution_count": 70,
   "metadata": {},
   "outputs": [],
   "source": [
    "# text_chunks"
   ]
  },
  {
   "cell_type": "code",
   "execution_count": 71,
   "metadata": {},
   "outputs": [],
   "source": [
    "from langchain.embeddings import HuggingFaceEmbeddings"
   ]
  },
  {
   "cell_type": "code",
   "execution_count": 72,
   "metadata": {},
   "outputs": [],
   "source": [
    "def download_embeddings():\n",
    "    embeddings=HuggingFaceEmbeddings(model_name='sentence-transformers/all-MiniLM-L6-v2')\n",
    "    return embeddings"
   ]
  },
  {
   "cell_type": "code",
   "execution_count": 73,
   "metadata": {},
   "outputs": [
    {
     "name": "stdout",
     "output_type": "stream",
     "text": [
      "Model loaded successfully\n"
     ]
    }
   ],
   "source": [
    "from sentence_transformers import SentenceTransformer\n",
    "model = SentenceTransformer('sentence-transformers/all-MiniLM-L6-v2')\n",
    "print(\"Model loaded successfully\")"
   ]
  },
  {
   "cell_type": "code",
   "execution_count": 74,
   "metadata": {},
   "outputs": [],
   "source": [
    "embeddings=download_embeddings()"
   ]
  },
  {
   "cell_type": "code",
   "execution_count": 75,
   "metadata": {},
   "outputs": [
    {
     "name": "stdout",
     "output_type": "stream",
     "text": [
      "Length 384\n"
     ]
    }
   ],
   "source": [
    "query_result=embeddings.embed_query(\"Hello world\")\n",
    "print(\"Length\", len(query_result))"
   ]
  },
  {
   "cell_type": "code",
   "execution_count": 76,
   "metadata": {},
   "outputs": [],
   "source": [
    "# query_result"
   ]
  },
  {
   "cell_type": "code",
   "execution_count": 77,
   "metadata": {},
   "outputs": [
    {
     "data": {
      "text/plain": [
       "True"
      ]
     },
     "execution_count": 77,
     "metadata": {},
     "output_type": "execute_result"
    }
   ],
   "source": [
    "from dotenv import load_dotenv\n",
    "import os\n",
    "load_dotenv()"
   ]
  },
  {
   "cell_type": "code",
   "execution_count": 78,
   "metadata": {},
   "outputs": [],
   "source": [
    "PINECONE_API_KEY=os.environ.get('PINECONE_API_KEY')\n",
    "HUGGINGFACE_API_KEY=os.environ.get('HUGGINGFACE_API_KEY')"
   ]
  },
  {
   "cell_type": "code",
   "execution_count": 79,
   "metadata": {},
   "outputs": [],
   "source": [
    "from pinecone.grpc import PineconeGRPC as Pinecone\n",
    "from pinecone import ServerlessSpec\n",
    "\n",
    "pc = Pinecone(api_key=PINECONE_API_KEY)\n",
    "\n",
    "index_name= \"museumbot\"\n",
    "\n",
    "pc.create_index(\n",
    "    name=index_name,\n",
    "    dimension=384,\n",
    "    metric=\"cosine\",\n",
    "    spec=ServerlessSpec(\n",
    "        cloud=\"aws\",\n",
    "        region=\"us-east-1\"\n",
    "    )\n",
    ")"
   ]
  },
  {
   "cell_type": "code",
   "execution_count": 80,
   "metadata": {},
   "outputs": [],
   "source": [
    "import os\n",
    "os.environ[\"PINECONE_API_KEY\"]=PINECONE_API_KEY\n",
    "os.environ[\"HUGGINGFACE_API_KEY\"]=HUGGINGFACE_API_KEY"
   ]
  },
  {
   "cell_type": "code",
   "execution_count": 81,
   "metadata": {},
   "outputs": [],
   "source": [
    "from langchain_pinecone import PineconeVectorStore\n",
    "\n",
    "docsearch= PineconeVectorStore.from_documents(\n",
    "    documents=text_chunks,\n",
    "    index_name=\"museumbot\",\n",
    "    embedding=embeddings,\n",
    ")"
   ]
  },
  {
   "cell_type": "code",
   "execution_count": 82,
   "metadata": {},
   "outputs": [
    {
     "data": {
      "text/plain": [
       "<langchain_pinecone.vectorstores.PineconeVectorStore at 0x2690f341a20>"
      ]
     },
     "execution_count": 82,
     "metadata": {},
     "output_type": "execute_result"
    }
   ],
   "source": [
    "from langchain_pinecone import PineconeVectorStore\n",
    "\n",
    "docsearch= PineconeVectorStore.from_existing_index(\n",
    "    index_name=\"museumbot\",\n",
    "    embedding=embeddings\n",
    ")\n",
    "\n",
    "docsearch"
   ]
  },
  {
   "cell_type": "code",
   "execution_count": 83,
   "metadata": {},
   "outputs": [],
   "source": [
    "retreiver=docsearch.as_retriever(search_type='similarity', search_kwargs={\"k\":3})"
   ]
  },
  {
   "cell_type": "code",
   "execution_count": 84,
   "metadata": {},
   "outputs": [
    {
     "data": {
      "text/plain": [
       "[]"
      ]
     },
     "execution_count": 84,
     "metadata": {},
     "output_type": "execute_result"
    }
   ],
   "source": [
    "retreiver_docs= retreiver.invoke(\"where is museum?\")\n",
    "retreiver_docs"
   ]
  },
  {
   "cell_type": "code",
   "execution_count": 85,
   "metadata": {},
   "outputs": [
    {
     "name": "stdout",
     "output_type": "stream",
     "text": [
      "{'type': 'user', 'id': '67dd7781736381c546cf5777', 'name': 'AryeshAI', 'fullname': 'Aryesh', 'email': 'aryesh1014@gmail.com', 'emailVerified': True, 'canPay': False, 'periodEnd': None, 'isPro': False, 'avatarUrl': '/avatars/184b1cac58a8bf109af3cbe34d115c6b.svg', 'orgs': [], 'auth': {'type': 'access_token', 'accessToken': {'displayName': 'museumbot', 'role': 'write', 'createdAt': '2025-03-21T14:43:26.397Z'}}}\n"
     ]
    }
   ],
   "source": [
    "import requests\n",
    "\n",
    "# HUGGINGFACE_API_KEY = \"your_actual_huggingface_api_key\"\n",
    "API_URL = \"https://huggingface.co/api/whoami-v2\"\n",
    "headers = {\"Authorization\": f\"Bearer {HUGGINGFACE_API_KEY}\"}\n",
    "\n",
    "response = requests.get(API_URL, headers=headers)\n",
    "print(response.json())  # Should return your user info if the key is correct\n"
   ]
  },
  {
   "cell_type": "code",
   "execution_count": 86,
   "metadata": {},
   "outputs": [],
   "source": [
    "from langchain.chains import create_retrieval_chain\n",
    "from langchain.chains.combine_documents import create_stuff_documents_chain\n",
    "from langchain_core.prompts import ChatPromptTemplate\n",
    "\n",
    "system_prompt=(\n",
    "    \"You are an assistant for question-answering tasks. \"\n",
    "    \"Use the following pieces of retrived context to answer \"\n",
    "    \"the question. if you don't know the answer, say that you \"\n",
    "    \"don't know. Use three sentences maximum and keep the \"\n",
    "    \"answer concise. \"\n",
    "    \"\\n\\n\"\n",
    "    \"{context}\"\n",
    ")\n",
    "\n",
    "prompt = ChatPromptTemplate.from_messages(\n",
    "    [\n",
    "        (\"system\", system_prompt),\n",
    "        (\"human\", \"{input}\"),\n",
    "    ]\n",
    ")"
   ]
  },
  {
   "cell_type": "code",
   "execution_count": 87,
   "metadata": {},
   "outputs": [],
   "source": [
    "from langchain_community.llms import Ollama\n",
    "from langchain.chains import RetrievalQA\n",
    "\n",
    "llm = Ollama(model=\"mistral\")\n",
    "\n",
    "qa_chain=create_stuff_documents_chain(llm, prompt)\n",
    "rag_chain=create_retrieval_chain(retreiver, qa_chain)\n"
   ]
  },
  {
   "cell_type": "code",
   "execution_count": 88,
   "metadata": {},
   "outputs": [
    {
     "name": "stdout",
     "output_type": "stream",
     "text": [
      " The Indian Museum was established in 1814. It is located in Kolkata, India. It is one of the oldest museums in Asia.\n"
     ]
    }
   ],
   "source": [
    "response= rag_chain.invoke({\"input\": \"When was the Indian Museum Established? \"})\n",
    "print(response[\"answer\"])"
   ]
  },
  {
   "cell_type": "code",
   "execution_count": 89,
   "metadata": {},
   "outputs": [
    {
     "name": "stdout",
     "output_type": "stream",
     "text": [
      " Abanindranath Tagore was not directly mentioned in the provided context. However, the context does mention a museum with various sections such as Geology, Zoology, Anthropology, and an Art section which showcases Tanjore and Mysore Paintings. The museum also offers special events like \"Night at the Museum\" and \"The Secrets of the Mummy\". There's also a mention of prehistoric marine reptiles, butterflies, insects, dinosaurs, and interactive AR displays. If you're looking for more information about Abanindranath Tagore, he was a prominent Indian painter associated with the Bengal School of Art.\n"
     ]
    }
   ],
   "source": [
    "response= rag_chain.invoke({\"input\": \"who is Leviathan? \"})\n",
    "print(response[\"answer\"])"
   ]
  },
  {
   "cell_type": "code",
   "execution_count": null,
   "metadata": {},
   "outputs": [],
   "source": [
    "# def chatbot():\n",
    "#     print(\"Museum Chatbot (Ollama + Mistral 7B) - Type 'exit' to quit.\")\n",
    "#     while True:\n",
    "#         query = input(\"You: \")\n",
    "#         if query.lower() == \"exit\":\n",
    "#             break\n",
    "\n",
    "#         response = qa_chain.run(query)\n",
    "#         print(\"Bot:\", response)\n",
    "\n",
    "# chatbot()"
   ]
  },
  {
   "cell_type": "code",
   "execution_count": 25,
   "metadata": {},
   "outputs": [],
   "source": [
    "# from langchain.llms import HuggingFaceHub\n",
    "\n",
    "\n",
    "# llm = HuggingFaceHub(\n",
    "#     repo_id=\"mistralai/Mistral-7B-v0.1\",  # Try this model instead\n",
    "#     model_kwargs={\"temperature\": 0.4, \"max_length\": 500},\n",
    "#     huggingfacehub_api_token=HUGGINGFACE_API_KEY\n",
    "# )\n",
    "\n",
    "# response = llm(\"When was the Indian Museum established?\")\n",
    "# print(response)\n"
   ]
  },
  {
   "cell_type": "code",
   "execution_count": null,
   "metadata": {},
   "outputs": [],
   "source": []
  }
 ],
 "metadata": {
  "kernelspec": {
   "display_name": "museumbot",
   "language": "python",
   "name": "python3"
  },
  "language_info": {
   "codemirror_mode": {
    "name": "ipython",
    "version": 3
   },
   "file_extension": ".py",
   "mimetype": "text/x-python",
   "name": "python",
   "nbconvert_exporter": "python",
   "pygments_lexer": "ipython3",
   "version": "3.10.16"
  }
 },
 "nbformat": 4,
 "nbformat_minor": 2
}
